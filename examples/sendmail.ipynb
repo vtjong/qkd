{
 "cells": [
  {
   "cell_type": "code",
   "execution_count": 3,
   "source": [
    "import sys\n",
    "sys.path.append('../')\n",
    "from encrypted_email import Encrypted_Mail\n",
    "from sendgrid.helpers.mail import *\n",
    "from encrypt import encrypter, decrypter, msg_partitioner, simple_encrypt"
   ],
   "outputs": [],
   "metadata": {}
  },
  {
   "cell_type": "code",
   "execution_count": 4,
   "source": [
    "def main():\n",
    "    key = \"Happy Hacking!\"\n",
    "    from_email = Email(\"vyt3@cornell.edu\")\n",
    "    to_email = To(\"vyt3@cornell.edu\")\n",
    "\n",
    "    subject = \"Send Police!\"\n",
    "    msg_plaintext = \"My address is 308 Negra Arroyo Lane.\" + \\\n",
    "        \" My husband, Walter White, is trying to break in!\" + \\\n",
    "        \" He checks my emails and text messages. Please send help.\"\n",
    "\n",
    "    email1 = Encrypted_Mail(key, from_email, to_email, subject, msg_plaintext)\n",
    "    email1.send_encrypted_email(subject, msg_plaintext)\n",
    "    email1.get_encrypted_email(key)\n",
    "\n",
    "    # email1.send_encrypted_attachment(subject, msg_plaintext)\n",
    "\n",
    "\n",
    "if __name__ == \"__main__\":\n",
    "    main()"
   ],
   "outputs": [
    {
     "output_type": "stream",
     "name": "stdout",
     "text": [
      "Email successfully sent to:  <sendgrid.helpers.mail.to_email.To object at 0x11129d790>\n",
      "Encrypted subject:  h9oShEhWpcFTn4ZuVfPrWMblMbVDm/+u/9zGvj0jYxzk1Tsnxe6q9w==\n",
      "Encrypted message:  Eetz3VJ+NBmtFuIFUcVux/aOpucD3+guFFlu75SNC5tMC0Fp75oYBnhAB1+2LgKz4IQbbRwziPWruBtn1dzivOI/208SzSLjSnOf/i1kvSQtIYEElkCvahCWyCHLJNigyhmpJZPaQQZTAT3NVaJsfxjeK2dBWeBaW4gibYZtKDqXjhd18JJgA3vjw+gVpsBUZPeW9hJD+JNHAQkgWYiHCVKXSy7lDMRVL1V8JKIJQnyc8u2i172+nq7pR0vKIKkNAndU7Xq8VpJt0MzZkotoJzQXvI2WKVsyoDuaLYre4Z2JbSBuyP0QmO4AxeOkg3OVwydPgKNY82XTY6mqLFzJgfLqsE+6oUGVY4IGiTQ/RZx6bM5ux0QDs10nghXy1GVzFetzxGR6Cd8ai/sEFkZQAPv5GUYedVRSyvkSf9v1C9JZQDnscuDuk8LwZYDJV1/2UKKPYrPe5j9xxPKlaOjkCo3MVoe2MbPs/UPMSayyzPHpoe5qH+WVfCv+zN3fz+jDh2uL3F5JhUhdQYYQa1vh6uwAxEVyF7IDRNqxcoXlrKi9tJ+n1cWOaBMHyhG/u8BYPwBJFb8nCc2pnh/ZJvcWhNs1N5HW4VyGAuiLdeDq/u74fWRhRcqbsp2m26pyeET/+mGvHLC9nfJFc8JRIdjhZkUKVR52CpSFX0/ZIq5mn5BCJiCQf5YpWQ==\n",
      "------------Begin decrypted message------------\n",
      "\n",
      "Subject:  Send Police!\n",
      "Email Body:  My address is: 308 Negra Arroyo Lane.My husband, Walter White, is trying to break in!He checks my emails and text messages. Please send help.\n"
     ]
    }
   ],
   "metadata": {}
  }
 ],
 "metadata": {
  "orig_nbformat": 4,
  "language_info": {
   "name": "python",
   "version": "3.9.7",
   "mimetype": "text/x-python",
   "codemirror_mode": {
    "name": "ipython",
    "version": 3
   },
   "pygments_lexer": "ipython3",
   "nbconvert_exporter": "python",
   "file_extension": ".py"
  },
  "kernelspec": {
   "name": "python3",
   "display_name": "Python 3.9.7 64-bit ('sklearn-env': conda)"
  },
  "interpreter": {
   "hash": "19b5984241a9f69aed9aab7aaf1f905a3faed7ed6c1f4c2067bb1361a0c8b89d"
  }
 },
 "nbformat": 4,
 "nbformat_minor": 2
}