{
 "cells": [
  {
   "cell_type": "code",
   "execution_count": 1,
   "source": [
    "import sys\n",
    "sys.path.append('../')\n",
    "from encrypted_email import Encrypted_Mail\n",
    "from sendgrid.helpers.mail import *\n",
    "from encrypt import encrypter, decrypter, msg_partitioner, simple_encrypt"
   ],
   "outputs": [],
   "metadata": {}
  },
  {
   "cell_type": "code",
   "execution_count": 2,
   "source": [
    "def main():\n",
    "    key = \"Happy Hacking!\"\n",
    "    from_email = Email(\"vyt3@cornell.edu\")\n",
    "    to_email = To(\"vyt3@cornell.edu\")\n",
    "\n",
    "    subject = \"Send Police!\"\n",
    "    msg_plaintext = \"My address is 308 Negra Arroyo Lane.\" + \\\n",
    "        \" My husband, Walter White, is trying to break in!\" + \\\n",
    "        \" He checks my emails and text messages. Please send help.\"\n",
    "\n",
    "    email1 = Encrypted_Mail(key, from_email, to_email, subject, msg_plaintext)\n",
    "    email1.send_encrypted_email(subject, msg_plaintext)\n",
    "    email1.get_encrypted_email(key)\n",
    "\n",
    "    # email1.send_encrypted_attachment(subject, msg_plaintext)\n",
    "\n",
    "\n",
    "if __name__ == \"__main__\":\n",
    "    main()"
   ],
   "outputs": [
    {
     "output_type": "stream",
     "name": "stdout",
     "text": [
      "Email successfully sent to:  <sendgrid.helpers.mail.to_email.To object at 0x10d43fca0>\n",
      "Encrypted subject:  wpcyWHcu0gN2GYQECm3qUjsC3qTXX324eCoCknDMHAfS9GK8D1WKow==\n",
      "Encrypted message:  wVDn9wLxnnme7v8lGC++m+L50t7fYE3RoCAFAAb+o4AQDF9oBFtKbxrkuiqRMDqfI/k4rMx4bbSq3rc/v7ezz625cHGssp/QT6zMfMn7qxTA3jSUogFkl4pbYLT9Y43QlTqT5HV5lGlai8gMB1KQXBIw/zBiy251w26Rvs8Tragty5cQTuEzPwOsUSlvMf+Yu81cJK0yfI18rFZ40CKRvyQVUnhKf3p5n93Vc0Omq/YOx4nVXWcxvhvFzWHOweug2H13O0loZXTQf12sxI2AUJJXyPNwYneWmSEqG8fic+O9pMj7E0ZB98suOEinvz0E1oLOGWR8gAu2d72ZJ8Hu/3GDrrOz2PJLdLGDqSFLbMXIFrhiholuruvOdGFPwclj9M9qVZAzofWaLOBWL1MQ9++8IPWEbK76MpiwfzeqlMyAOEiJpodieBVRA6NfoQ3HsLeT//YUR+zJRtSsqQPtFKyo4Jm2h/1SvfZP1IUrSYEyvIwtcBD42neRBFCcf0O2Ipb+SFzKb3Rajo89QarjQk1nNv+McjmzrHyKaFyKUAkH955EA4l5IsHc8GL8/6n8pfzPYHH8chtLrEKAR/kCoPCZg065wj0skryrnyCN39r/IkojhzoNkdwk82cskP+nPaMOgp8dFbZhMDpMXPaAbz78ps2p0jG+6TkylhMM/6/c8216qikp9Q==\n",
      "\n",
      "------------Begin decrypted message------------\n",
      "Subject:  Send Police!\n",
      "Email Body:  My address is 308 Negra Arroyo Lane. My husband, Walter White, is trying to break in! He checks my emails and text messages. Please send help.\n"
     ]
    }
   ],
   "metadata": {}
  }
 ],
 "metadata": {
  "orig_nbformat": 4,
  "language_info": {
   "name": "python",
   "version": "3.9.7",
   "mimetype": "text/x-python",
   "codemirror_mode": {
    "name": "ipython",
    "version": 3
   },
   "pygments_lexer": "ipython3",
   "nbconvert_exporter": "python",
   "file_extension": ".py"
  },
  "kernelspec": {
   "name": "python3",
   "display_name": "Python 3.9.7 64-bit ('sklearn-env': conda)"
  },
  "interpreter": {
   "hash": "19b5984241a9f69aed9aab7aaf1f905a3faed7ed6c1f4c2067bb1361a0c8b89d"
  }
 },
 "nbformat": 4,
 "nbformat_minor": 2
}