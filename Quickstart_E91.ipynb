{
 "cells": [
  {
   "cell_type": "markdown",
   "id": "2e1eb288-727d-48b1-9ba5-b79a94394f59",
   "metadata": {},
   "source": [
    "# Eckert91 Quantum Key Distribution\n",
    "The objective of the notebook is to walk you through using the modules to generate identical keys between every pair of parties. The keys are genrated using the Eckert 91 protocol using both Quantum Inspire's `QX-34-L` and Qiskit's `Aer` backend. \n",
    "\n",
    "Eckert 91 is better than the BB84 protocol since it leverages on CHSH inequality for entangled quantum systems to identify the presence of an eavesdropper"
   ]
  },
  {
   "cell_type": "code",
   "execution_count": 1,
   "id": "aeb47ac1-e217-4d7b-ba87-fc43804800b7",
   "metadata": {},
   "outputs": [],
   "source": [
    "# Import libraries\n",
    "import E91"
   ]
  },
  {
   "cell_type": "markdown",
   "id": "0f50b810-0a7f-44a8-b637-b127dbbeb709",
   "metadata": {},
   "source": [
    "## Generating key using Qiskit's `Aer` backend\n",
    "### Without an eavesdropper"
   ]
  },
  {
   "cell_type": "code",
   "execution_count": 2,
   "id": "b7c4be2e-aa6b-4215-a466-f8b2ea1dd5e9",
   "metadata": {},
   "outputs": [
    {
     "name": "stdout",
     "output_type": "stream",
     "text": [
      "Is the generated key secure by CHSH inequality? True\n",
      "Alice's key: 11000101\n",
      "Bob's key: 11000101\n"
     ]
    }
   ],
   "source": [
    "key1, key2, secure = E91.generate_key(10)\n",
    "print('Is the generated key secure by CHSH inequality?',secure)\n",
    "print(\"Alice's key:\",key1)\n",
    "print(\"Bob's key:\",key2)"
   ]
  },
  {
   "cell_type": "markdown",
   "id": "1fcef5f3-2859-4b72-9f77-7e77ff473109",
   "metadata": {},
   "source": [
    "\n",
    "For $n$ rounds of executing the Eckert 91 protocol, the actual number of rounds that the protocol is executed is $(9 \\times n)//2$ since the probability that the bases match in a single round of E91 execution is $2/9$. So, the length of the output keystring should be approximately equal to the expected key length supplied as argument to the `generate_key()` function"
   ]
  },
  {
   "cell_type": "markdown",
   "id": "94cb213e-2775-431a-a97f-53fdc4e47175",
   "metadata": {},
   "source": [
    "### With an eavesdropper"
   ]
  },
  {
   "cell_type": "code",
   "execution_count": 3,
   "id": "2882afe9-e2a7-48a6-b4a5-787da11bd336",
   "metadata": {},
   "outputs": [
    {
     "name": "stdout",
     "output_type": "stream",
     "text": [
      "Is the generated key secure by CHSH inequality? False\n",
      "Alice's key: 10010010\n",
      "Bob's key: 10111010\n"
     ]
    }
   ],
   "source": [
    "key1, key2, secure = E91.generate_key(10, eavesdrop=True)\n",
    "print('Is the generated key secure by CHSH inequality?',secure)\n",
    "print(\"Alice's key:\",key1)\n",
    "print(\"Bob's key:\",key2)"
   ]
  },
  {
   "cell_type": "markdown",
   "id": "5ab2f105-7d2c-4d29-a582-d0d37738435e",
   "metadata": {},
   "source": [
    "With the presense of an eavesdropper, the keys don't match. The crucial thing in this protocol is that both ALice and Bob do not have to share these keystring on an classical channel to verify integrity. Only the bits for which the bases don't match is shared. From these results, the correlations are estimated in the `verify()` function of the `E91.py` module. These corrections are seen to satisfy the CHSH inequality requirement for a quantum system. This distinction is built into the protocol and hence E91 exhibits better security principles over BB84/B92 protocols"
   ]
  },
  {
   "cell_type": "markdown",
   "id": "200035d9-ed0d-4bcc-a888-ff1c246f4c21",
   "metadata": {},
   "source": [
    "## Generating key using Quantum Inspire's `QX-34-L` backend\n",
    "\n",
    "First, we need to authenticate our session with the available backend. The authentication below uses an API key and does not save the key locally. For more information on loading the API key, [click here](https://github.com/QuTech-Delft/quantuminspire#configure-your-token-credentials-for-quantum-inspire)\n",
    "\n",
    "### Authentication"
   ]
  },
  {
   "cell_type": "code",
   "execution_count": 4,
   "id": "ed4cb968-d30f-499b-a8ab-ce79452d0170",
   "metadata": {},
   "outputs": [],
   "source": [
    "api_token = '<token>'\n",
    "E91.qi_setup(api_token)"
   ]
  },
  {
   "cell_type": "markdown",
   "id": "e08f2cdf-3b7c-4cd4-ac30-5cb6581c588c",
   "metadata": {},
   "source": [
    "### Without an eavesdropper"
   ]
  },
  {
   "cell_type": "code",
   "execution_count": 5,
   "id": "2c2f1202-6dfc-46c1-a346-3dda805c0771",
   "metadata": {},
   "outputs": [
    {
     "name": "stdout",
     "output_type": "stream",
     "text": [
      "Is the generated key secure by CHSH inequality? True\n",
      "Alice's key: 1\n",
      "Bob's key: 1\n"
     ]
    }
   ],
   "source": [
    "key1, key2, secure = E91.generate_key(1, platform='quantuminspire')\n",
    "print('Is the generated key secure by CHSH inequality?',secure)\n",
    "print(\"Alice's key:\",key1)\n",
    "print(\"Bob's key:\",key2)"
   ]
  },
  {
   "cell_type": "markdown",
   "id": "f748b5d7-5abf-4217-8b9a-95b922e10327",
   "metadata": {},
   "source": [
    "We have used an expected key length of 1 due to time constraints. Hence, the `secure` variable's value do not make sense here. The same process can be increased for passing a higher expected keylength along with an eavesdropper as\n",
    "```\n",
    "key1, key2, secure = E91.generate_key(<n>, platform='quantuminspire', eavesdrop='True')\n",
    "```"
   ]
  },
  {
   "cell_type": "markdown",
   "id": "8404b73a-5aa9-4a84-b74a-f936b9143847",
   "metadata": {},
   "source": [
    "## Generating pairs of keys\n",
    "Now, we have 5 quantum people attending a Quantum party in Hilbert space where everyone is entangled. They play a game where they start in superpositions and have to collapse into one desired state. The people who collapse instead into any other complement space for their respective qubit have to take a shot. There is an oracle lurking through the Hilbert space and wants to get people drunk so it can steal their powers and escape into the classical world. Hence, they wish to communicate with each other through a secured channel. But before they start sending messages, they need to generate a keypair between each pair of people. Let's (very strongly) assume that in this Hilbert space, a length-20 key is suitable for establishing rock-solid connection"
   ]
  },
  {
   "cell_type": "code",
   "execution_count": 6,
   "id": "0c6525bd-219a-4742-96b4-0a45395b9acc",
   "metadata": {},
   "outputs": [],
   "source": [
    "people = ['Julian','Dick','Georgina','Anne','Timothy']"
   ]
  },
  {
   "cell_type": "code",
   "execution_count": 10,
   "id": "3e681ddb-6b55-4df3-a6f0-0b9859b28458",
   "metadata": {},
   "outputs": [
    {
     "name": "stdout",
     "output_type": "stream",
     "text": [
      "Person 1\t|Person 2\t|Key\n",
      "--------------------------------------------------\n",
      "Julian\t|Dick\t|110100111101101110110111\n",
      "Julian\t|Georgina\t|011100000101001110011100\n",
      "Julian\t|Anne\t|001111110111111010\n",
      "Julian\t|Timothy\t|10101010000101101001101\n",
      "Dick\t|Georgina\t|1010001100111110011111\n",
      "Dick\t|Anne\t|01110110101111011001\n",
      "Dick\t|Timothy\t|001100101111001111\n",
      "Georgina\t|Anne\t|000011110100100\n",
      "Georgina\t|Timothy\t|101000011001010011011011010100011\n",
      "Anne\t|Timothy\t|110010100000\n"
     ]
    }
   ],
   "source": [
    "print('Person 1\\t|Person 2\\t|Key')\n",
    "print('-'*50)\n",
    "for i in range(5):\n",
    "    for j in range(i+1,5):\n",
    "        key1, key2, secure = E91.generate_key(20)\n",
    "        print('{}\\t|{}\\t|{}'.format(people[i],people[j],key1))"
   ]
  },
  {
   "cell_type": "markdown",
   "id": "a0828d49-5ce2-4687-9420-e9bcf32d1814",
   "metadata": {},
   "source": [
    "Yaaay! Now, we have established a key between every pair of people and we can start texting :)"
   ]
  },
  {
   "cell_type": "code",
   "execution_count": null,
   "id": "8f823ded-61b1-4c26-bafd-e31b41753e29",
   "metadata": {},
   "outputs": [],
   "source": []
  }
 ],
 "metadata": {
  "kernelspec": {
   "display_name": "Qiskit",
   "language": "python",
   "name": "qiskit"
  },
  "language_info": {
   "codemirror_mode": {
    "name": "ipython",
    "version": 3
   },
   "file_extension": ".py",
   "mimetype": "text/x-python",
   "name": "python",
   "nbconvert_exporter": "python",
   "pygments_lexer": "ipython3",
   "version": "3.9.7"
  }
 },
 "nbformat": 4,
 "nbformat_minor": 5
}
